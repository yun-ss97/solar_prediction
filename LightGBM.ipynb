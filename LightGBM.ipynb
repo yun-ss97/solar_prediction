{
 "cells": [
  {
   "cell_type": "code",
   "execution_count": 1,
   "metadata": {
    "ExecuteTime": {
     "end_time": "2021-01-15T05:44:20.710513Z",
     "start_time": "2021-01-15T05:44:20.705550Z"
    }
   },
   "outputs": [],
   "source": [
    "import pandas as pd\n",
    "import numpy as np\n",
    "import matplotlib.pyplot as plt\n",
    "\n",
    "# tools\n",
    "import joblib\n",
    "\n",
    "# preprocess\n",
    "from sklearn.model_selection import train_test_split\n",
    "from sklearn.metrics import mean_squared_error\n",
    "\n",
    "# model\n",
    "import lightgbm as lgb\n",
    "\n",
    "global quantile"
   ]
  },
  {
   "cell_type": "code",
   "execution_count": 107,
   "metadata": {},
   "outputs": [],
   "source": [
    "def add_variable(df): \n",
    "    \n",
    "    df['sum_energy'] = df['DHI'] + df['DNI']\n",
    "\n",
    "    df['theta'] = 0\n",
    "    condition_list = [\n",
    "        (df['Hour'] == 6) | (df['Hour'] == 19),\n",
    "        (df['Hour'] == 7) | (df['Hour'] == 18),\n",
    "        (df['Hour'] == 8) | (df['Hour'] == 17),\n",
    "        (df['Hour'] == 9) | (df['Hour'] == 16),\n",
    "        (df['Hour'] == 10) | (df['Hour'] == 15),\n",
    "        (df['Hour'] == 11) | (df['Hour'] == 14),\n",
    "        (df['Hour'] == 12) | (df['Hour'] == 13)\n",
    "    ]\n",
    "\n",
    "    choice_list = [0, 10, 20, 30, 40, 50, 60]\n",
    "\n",
    "    df['theta'] = np.select(condition_list, choice_list)\n",
    "    \n",
    "    # GHI\n",
    "    df['GHI'] = df['DNI'] * np.cos(df['theta']) + df['DHI']\n",
    "\n",
    "    condition_list = [\n",
    "        ((df['Hour'] >= 0) & (df['Hour'] <= 7)) | ((df['Hour'] >= 18) & (df['Hour'] <= 23)),\n",
    "        ((df['Hour'] > 7) & (df['Hour'] < 10)) | ((df['Hour'] >= 15) & (df['Hour'] < 18)),\n",
    "        (df['Hour'] >=10) & (df['Hour'] < 15),\n",
    "    ]\n",
    "    choice_list = [0, 2, 1]\n",
    "    df['time'] = np.select(condition_list, choice_list)\n",
    "    \n",
    "    df['target0'] = df['TARGET']\n",
    "    \n",
    "\n",
    "    return pd.DataFrame(df)"
   ]
  },
  {
   "cell_type": "code",
   "execution_count": 137,
   "metadata": {
    "ExecuteTime": {
     "end_time": "2021-01-15T05:44:21.113446Z",
     "start_time": "2021-01-15T05:44:21.109445Z"
    }
   },
   "outputs": [],
   "source": [
    "def compute_quantile_loss(y_true, y_pred, *quantile):\n",
    "    quantile = 0.9\n",
    "    residual = y_true - y_pred.label\n",
    "    loss = np.mean(np.maximum(quantile * residual, (quantile - 1) * residual))\n",
    "    return 'quantile_loss', loss, False"
   ]
  },
  {
   "cell_type": "code",
   "execution_count": 118,
   "metadata": {
    "ExecuteTime": {
     "end_time": "2021-01-15T05:44:23.347486Z",
     "start_time": "2021-01-15T05:44:23.254709Z"
    }
   },
   "outputs": [],
   "source": [
    "df = pd.read_csv('/home/ys/repo/solar_prediction/data/train/train.csv')\n",
    "df = add_variable(df)\n",
    "\n",
    "X = df.drop('TARGET', axis = 1)[:-96]\n",
    "y = df['TARGET'][96:]"
   ]
  },
  {
   "cell_type": "code",
   "execution_count": 119,
   "metadata": {},
   "outputs": [
    {
     "output_type": "execute_result",
     "data": {
      "text/plain": [
       "        Day  Hour  Minute  DHI  DNI   WS     RH   T  TARGET  sum_energy  \\\n",
       "0         0     0       0    0    0  1.5  69.08 -12     0.0           0   \n",
       "1         0     0      30    0    0  1.5  69.06 -12     0.0           0   \n",
       "2         0     1       0    0    0  1.6  71.78 -12     0.0           0   \n",
       "3         0     1      30    0    0  1.6  71.75 -12     0.0           0   \n",
       "4         0     2       0    0    0  1.6  75.20 -12     0.0           0   \n",
       "...     ...   ...     ...  ...  ...  ...    ...  ..     ...         ...   \n",
       "52555  1094    21      30    0    0  2.4  70.70  -4     0.0           0   \n",
       "52556  1094    22       0    0    0  2.4  66.79  -4     0.0           0   \n",
       "52557  1094    22      30    0    0  2.2  66.78  -4     0.0           0   \n",
       "52558  1094    23       0    0    0  2.1  67.72  -4     0.0           0   \n",
       "52559  1094    23      30    0    0  2.1  67.70  -4     0.0           0   \n",
       "\n",
       "       theta  GHI  time  target0  \n",
       "0          0  0.0     0      0.0  \n",
       "1          0  0.0     0      0.0  \n",
       "2          0  0.0     0      0.0  \n",
       "3          0  0.0     0      0.0  \n",
       "4          0  0.0     0      0.0  \n",
       "...      ...  ...   ...      ...  \n",
       "52555      0  0.0     0      0.0  \n",
       "52556      0  0.0     0      0.0  \n",
       "52557      0  0.0     0      0.0  \n",
       "52558      0  0.0     0      0.0  \n",
       "52559      0  0.0     0      0.0  \n",
       "\n",
       "[52560 rows x 14 columns]"
      ],
      "text/html": "<div>\n<style scoped>\n    .dataframe tbody tr th:only-of-type {\n        vertical-align: middle;\n    }\n\n    .dataframe tbody tr th {\n        vertical-align: top;\n    }\n\n    .dataframe thead th {\n        text-align: right;\n    }\n</style>\n<table border=\"1\" class=\"dataframe\">\n  <thead>\n    <tr style=\"text-align: right;\">\n      <th></th>\n      <th>Day</th>\n      <th>Hour</th>\n      <th>Minute</th>\n      <th>DHI</th>\n      <th>DNI</th>\n      <th>WS</th>\n      <th>RH</th>\n      <th>T</th>\n      <th>TARGET</th>\n      <th>sum_energy</th>\n      <th>theta</th>\n      <th>GHI</th>\n      <th>time</th>\n      <th>target0</th>\n    </tr>\n  </thead>\n  <tbody>\n    <tr>\n      <th>0</th>\n      <td>0</td>\n      <td>0</td>\n      <td>0</td>\n      <td>0</td>\n      <td>0</td>\n      <td>1.5</td>\n      <td>69.08</td>\n      <td>-12</td>\n      <td>0.0</td>\n      <td>0</td>\n      <td>0</td>\n      <td>0.0</td>\n      <td>0</td>\n      <td>0.0</td>\n    </tr>\n    <tr>\n      <th>1</th>\n      <td>0</td>\n      <td>0</td>\n      <td>30</td>\n      <td>0</td>\n      <td>0</td>\n      <td>1.5</td>\n      <td>69.06</td>\n      <td>-12</td>\n      <td>0.0</td>\n      <td>0</td>\n      <td>0</td>\n      <td>0.0</td>\n      <td>0</td>\n      <td>0.0</td>\n    </tr>\n    <tr>\n      <th>2</th>\n      <td>0</td>\n      <td>1</td>\n      <td>0</td>\n      <td>0</td>\n      <td>0</td>\n      <td>1.6</td>\n      <td>71.78</td>\n      <td>-12</td>\n      <td>0.0</td>\n      <td>0</td>\n      <td>0</td>\n      <td>0.0</td>\n      <td>0</td>\n      <td>0.0</td>\n    </tr>\n    <tr>\n      <th>3</th>\n      <td>0</td>\n      <td>1</td>\n      <td>30</td>\n      <td>0</td>\n      <td>0</td>\n      <td>1.6</td>\n      <td>71.75</td>\n      <td>-12</td>\n      <td>0.0</td>\n      <td>0</td>\n      <td>0</td>\n      <td>0.0</td>\n      <td>0</td>\n      <td>0.0</td>\n    </tr>\n    <tr>\n      <th>4</th>\n      <td>0</td>\n      <td>2</td>\n      <td>0</td>\n      <td>0</td>\n      <td>0</td>\n      <td>1.6</td>\n      <td>75.20</td>\n      <td>-12</td>\n      <td>0.0</td>\n      <td>0</td>\n      <td>0</td>\n      <td>0.0</td>\n      <td>0</td>\n      <td>0.0</td>\n    </tr>\n    <tr>\n      <th>...</th>\n      <td>...</td>\n      <td>...</td>\n      <td>...</td>\n      <td>...</td>\n      <td>...</td>\n      <td>...</td>\n      <td>...</td>\n      <td>...</td>\n      <td>...</td>\n      <td>...</td>\n      <td>...</td>\n      <td>...</td>\n      <td>...</td>\n      <td>...</td>\n    </tr>\n    <tr>\n      <th>52555</th>\n      <td>1094</td>\n      <td>21</td>\n      <td>30</td>\n      <td>0</td>\n      <td>0</td>\n      <td>2.4</td>\n      <td>70.70</td>\n      <td>-4</td>\n      <td>0.0</td>\n      <td>0</td>\n      <td>0</td>\n      <td>0.0</td>\n      <td>0</td>\n      <td>0.0</td>\n    </tr>\n    <tr>\n      <th>52556</th>\n      <td>1094</td>\n      <td>22</td>\n      <td>0</td>\n      <td>0</td>\n      <td>0</td>\n      <td>2.4</td>\n      <td>66.79</td>\n      <td>-4</td>\n      <td>0.0</td>\n      <td>0</td>\n      <td>0</td>\n      <td>0.0</td>\n      <td>0</td>\n      <td>0.0</td>\n    </tr>\n    <tr>\n      <th>52557</th>\n      <td>1094</td>\n      <td>22</td>\n      <td>30</td>\n      <td>0</td>\n      <td>0</td>\n      <td>2.2</td>\n      <td>66.78</td>\n      <td>-4</td>\n      <td>0.0</td>\n      <td>0</td>\n      <td>0</td>\n      <td>0.0</td>\n      <td>0</td>\n      <td>0.0</td>\n    </tr>\n    <tr>\n      <th>52558</th>\n      <td>1094</td>\n      <td>23</td>\n      <td>0</td>\n      <td>0</td>\n      <td>0</td>\n      <td>2.1</td>\n      <td>67.72</td>\n      <td>-4</td>\n      <td>0.0</td>\n      <td>0</td>\n      <td>0</td>\n      <td>0.0</td>\n      <td>0</td>\n      <td>0.0</td>\n    </tr>\n    <tr>\n      <th>52559</th>\n      <td>1094</td>\n      <td>23</td>\n      <td>30</td>\n      <td>0</td>\n      <td>0</td>\n      <td>2.1</td>\n      <td>67.70</td>\n      <td>-4</td>\n      <td>0.0</td>\n      <td>0</td>\n      <td>0</td>\n      <td>0.0</td>\n      <td>0</td>\n      <td>0.0</td>\n    </tr>\n  </tbody>\n</table>\n<p>52560 rows × 14 columns</p>\n</div>"
     },
     "metadata": {},
     "execution_count": 119
    }
   ],
   "source": [
    "df"
   ]
  },
  {
   "source": [
    "X_train, X_test, y_train, y_test = train_test_split(X,y, test_size = 0.2, shuffle = False)\n",
    "X_train, X_valid, y_train, y_valid = train_test_split(X,y, test_size = 0.2, shuffle = False)"
   ],
   "cell_type": "code",
   "metadata": {
    "ExecuteTime": {
     "end_time": "2021-01-15T05:44:24.014678Z",
     "start_time": "2021-01-15T05:44:23.973788Z"
    }
   },
   "execution_count": 120,
   "outputs": []
  },
  {
   "cell_type": "code",
   "execution_count": 121,
   "metadata": {
    "ExecuteTime": {
     "end_time": "2021-01-15T05:44:25.011014Z",
     "start_time": "2021-01-15T05:44:25.006027Z"
    }
   },
   "outputs": [],
   "source": [
    "train_ds = lgb.Dataset(X_train, label = y_train)\n",
    "valid_ds = lgb.Dataset(X_valid, label = y_valid)\n",
    "test_ds = lgb.Dataset(X_test, label = y_test)"
   ]
  },
  {
   "cell_type": "code",
   "execution_count": 122,
   "metadata": {
    "ExecuteTime": {
     "end_time": "2021-01-15T05:44:25.739068Z",
     "start_time": "2021-01-15T05:44:25.734081Z"
    }
   },
   "outputs": [],
   "source": [
    "params = {'learning_rate':0.05,\n",
    "         'max_depth':-1,\n",
    "         'boosting':'gbdt',\n",
    "         'objective':'regression',\n",
    "         'metric':'compute_quanitle_loss',\n",
    "          'feature_fraction':0.9,\n",
    "          'bagging_fraction':0.8,\n",
    "          'bagging_freq':1000,\n",
    "          'min_data_in_leaf':500,\n",
    "         }"
   ]
  },
  {
   "cell_type": "code",
   "execution_count": 138,
   "metadata": {
    "ExecuteTime": {
     "end_time": "2021-01-15T05:45:52.677870Z",
     "start_time": "2021-01-15T05:45:49.844469Z"
    },
    "tags": []
   },
   "outputs": [
    {
     "output_type": "stream",
     "name": "stdout",
     "text": [
      "quantile:  0.9\n",
      "[LightGBM] [Warning] Auto-choosing row-wise multi-threading, the overhead of testing was 0.001533 seconds.\n",
      "You can set `force_row_wise=true` to remove the overhead.\n",
      "And if memory is not enough, you can set `force_col_wise=true`.\n",
      "[LightGBM] [Info] Total Bins 1981\n",
      "[LightGBM] [Info] Number of data points in the train set: 41971, number of used features: 13\n",
      "[LightGBM] [Info] Start training from score 17.775091\n",
      "Training until validation scores don't improve for 500 rounds\n",
      "[500]\ttrain's quantile_loss: 1.55126\teval's quantile_loss: 3.76079\n",
      "Early stopping, best iteration is:\n",
      "[54]\ttrain's quantile_loss: 2.56554\teval's quantile_loss: 3.15881\n",
      "check iteration #:  0.9\n",
      "-----------------------\n"
     ]
    }
   ],
   "source": [
    "result = pd.DataFrame([])\n",
    "result['y_test'] = y_test.values\n",
    "\n",
    "for i in [0.1, 0.2, 0.3, 0.4, 0.5, 0.6, 0.7, 0.8, 0.9]:\n",
    "    *quantile = i\n",
    "    print('quantile: ', quantile)\n",
    "    model = lgb.train(\n",
    "        train_set = train_ds,\n",
    "        valid_sets = [valid_ds, train_ds],\n",
    "        valid_names = ['eval','train'],\n",
    "        params = {'metric':'compute_quantile_loss'},\n",
    "        early_stopping_rounds = 500,\n",
    "        verbose_eval = 500,\n",
    "        num_boost_round = 100000,\n",
    "        feval = compute_quantile_loss,\n",
    "        )\n",
    "    joblib.dump(model, 'model_{}.pkl'.format(i))\n",
    "    \n",
    "    #result['q_{}'.format(i)] = (model.predict(X_test)) * 0.8\n",
    "    print('check iteration #: ',i)\n",
    "    print('-----------------------')"
   ]
  },
  {
   "cell_type": "code",
   "execution_count": 144,
   "metadata": {},
   "outputs": [
    {
     "output_type": "stream",
     "name": "stdout",
     "text": [
      "/home/ys/repo/solar_prediction/data/test/0.csv\n",
      "/home/ys/repo/solar_prediction/data/test/1.csv\n",
      "/home/ys/repo/solar_prediction/data/test/2.csv\n",
      "/home/ys/repo/solar_prediction/data/test/3.csv\n",
      "/home/ys/repo/solar_prediction/data/test/4.csv\n",
      "/home/ys/repo/solar_prediction/data/test/5.csv\n",
      "/home/ys/repo/solar_prediction/data/test/6.csv\n",
      "/home/ys/repo/solar_prediction/data/test/7.csv\n",
      "/home/ys/repo/solar_prediction/data/test/8.csv\n",
      "/home/ys/repo/solar_prediction/data/test/9.csv\n",
      "/home/ys/repo/solar_prediction/data/test/10.csv\n",
      "/home/ys/repo/solar_prediction/data/test/11.csv\n",
      "/home/ys/repo/solar_prediction/data/test/12.csv\n",
      "/home/ys/repo/solar_prediction/data/test/13.csv\n",
      "/home/ys/repo/solar_prediction/data/test/14.csv\n",
      "/home/ys/repo/solar_prediction/data/test/15.csv\n",
      "/home/ys/repo/solar_prediction/data/test/16.csv\n",
      "/home/ys/repo/solar_prediction/data/test/17.csv\n",
      "/home/ys/repo/solar_prediction/data/test/18.csv\n",
      "/home/ys/repo/solar_prediction/data/test/19.csv\n",
      "/home/ys/repo/solar_prediction/data/test/20.csv\n",
      "/home/ys/repo/solar_prediction/data/test/21.csv\n",
      "/home/ys/repo/solar_prediction/data/test/22.csv\n",
      "/home/ys/repo/solar_prediction/data/test/23.csv\n",
      "/home/ys/repo/solar_prediction/data/test/24.csv\n",
      "/home/ys/repo/solar_prediction/data/test/25.csv\n",
      "/home/ys/repo/solar_prediction/data/test/26.csv\n",
      "/home/ys/repo/solar_prediction/data/test/27.csv\n",
      "/home/ys/repo/solar_prediction/data/test/28.csv\n",
      "/home/ys/repo/solar_prediction/data/test/29.csv\n",
      "/home/ys/repo/solar_prediction/data/test/30.csv\n",
      "/home/ys/repo/solar_prediction/data/test/31.csv\n",
      "/home/ys/repo/solar_prediction/data/test/32.csv\n",
      "/home/ys/repo/solar_prediction/data/test/33.csv\n",
      "/home/ys/repo/solar_prediction/data/test/34.csv\n",
      "/home/ys/repo/solar_prediction/data/test/35.csv\n",
      "/home/ys/repo/solar_prediction/data/test/36.csv\n",
      "/home/ys/repo/solar_prediction/data/test/37.csv\n",
      "/home/ys/repo/solar_prediction/data/test/38.csv\n",
      "/home/ys/repo/solar_prediction/data/test/39.csv\n",
      "/home/ys/repo/solar_prediction/data/test/40.csv\n",
      "/home/ys/repo/solar_prediction/data/test/41.csv\n",
      "/home/ys/repo/solar_prediction/data/test/42.csv\n",
      "/home/ys/repo/solar_prediction/data/test/43.csv\n",
      "/home/ys/repo/solar_prediction/data/test/44.csv\n",
      "/home/ys/repo/solar_prediction/data/test/45.csv\n",
      "/home/ys/repo/solar_prediction/data/test/46.csv\n",
      "/home/ys/repo/solar_prediction/data/test/47.csv\n",
      "/home/ys/repo/solar_prediction/data/test/48.csv\n",
      "/home/ys/repo/solar_prediction/data/test/49.csv\n",
      "/home/ys/repo/solar_prediction/data/test/50.csv\n",
      "/home/ys/repo/solar_prediction/data/test/51.csv\n",
      "/home/ys/repo/solar_prediction/data/test/52.csv\n",
      "/home/ys/repo/solar_prediction/data/test/53.csv\n",
      "/home/ys/repo/solar_prediction/data/test/54.csv\n",
      "/home/ys/repo/solar_prediction/data/test/55.csv\n",
      "/home/ys/repo/solar_prediction/data/test/56.csv\n",
      "/home/ys/repo/solar_prediction/data/test/57.csv\n",
      "/home/ys/repo/solar_prediction/data/test/58.csv\n",
      "/home/ys/repo/solar_prediction/data/test/59.csv\n",
      "/home/ys/repo/solar_prediction/data/test/60.csv\n",
      "/home/ys/repo/solar_prediction/data/test/61.csv\n",
      "/home/ys/repo/solar_prediction/data/test/62.csv\n",
      "/home/ys/repo/solar_prediction/data/test/63.csv\n",
      "/home/ys/repo/solar_prediction/data/test/64.csv\n",
      "/home/ys/repo/solar_prediction/data/test/65.csv\n",
      "/home/ys/repo/solar_prediction/data/test/66.csv\n",
      "/home/ys/repo/solar_prediction/data/test/67.csv\n",
      "/home/ys/repo/solar_prediction/data/test/68.csv\n",
      "/home/ys/repo/solar_prediction/data/test/69.csv\n",
      "/home/ys/repo/solar_prediction/data/test/70.csv\n",
      "/home/ys/repo/solar_prediction/data/test/71.csv\n",
      "/home/ys/repo/solar_prediction/data/test/72.csv\n",
      "/home/ys/repo/solar_prediction/data/test/73.csv\n",
      "/home/ys/repo/solar_prediction/data/test/74.csv\n",
      "/home/ys/repo/solar_prediction/data/test/75.csv\n",
      "/home/ys/repo/solar_prediction/data/test/76.csv\n",
      "/home/ys/repo/solar_prediction/data/test/77.csv\n",
      "/home/ys/repo/solar_prediction/data/test/78.csv\n",
      "/home/ys/repo/solar_prediction/data/test/79.csv\n",
      "/home/ys/repo/solar_prediction/data/test/80.csv\n"
     ]
    }
   ],
   "source": [
    "\n",
    "final_result = pd.DataFrame([])\n",
    "\n",
    "for i in range(0,81):\n",
    "\n",
    "    path = '/home/ys/repo/solar_prediction/data/test/' + str(i) +'.csv'\n",
    "    print(path)\n",
    "    df = pd.read_csv(path)\n",
    "    df = add_variable(df)\n",
    "\n",
    "    X2 = df.drop('TARGET', axis = 1)\n",
    "    y2 = df['TARGET']\n",
    "\n",
    "    result2 = pd.DataFrame([])\n",
    "    result2['id'] = 0\n",
    "    result2['hour'] = 0\n",
    "    result2['day'] = 0\n",
    "    result2['day'] = result2['day'].astype('int32')\n",
    "\n",
    "\n",
    "    for j,k in enumerate([0.1, 0.2, 0.3, 0.4, 0.5, 0.6, 0.7, 0.8, 0.9]):\n",
    "        quantile = k\n",
    "        \n",
    "        file_name = '/home/ys/repo/solar_prediction/02_model/YS/model_{}.pkl'.format(k)\n",
    "        model = joblib.load(file_name)\n",
    "\n",
    "        result2['q_{}'.format(k)] = model.predict(X2)\n",
    "\n",
    "        X2['Minute'] = X2['Minute'].astype('str')\n",
    "        X2['Minute'] = X2['Minute'].replace('0','00')\n",
    "\n",
    "        for h in range(len(X2)):\n",
    "            result2['id'].loc[h] = '{}.csv_Day{}_{}h{}m'.format(i, X2['Day'].iloc[h]+2, X2['Hour'].iloc[h], X2['Minute'].iloc[h])\n",
    "            result2['hour'].loc[h] = X2['Hour'].iloc[h]\n",
    "            result2['day'].loc[h] = X2['Day'].iloc[h]+2\n",
    "        \n",
    "        for h in range(len(X2)):\n",
    "            if (result2['hour'].loc[h] < 7) | (result2['hour'].loc[h] > 19):\n",
    "                result2['q_{}'.format(k)].iloc[h] = 0\n",
    "            if result2['q_{}'.format(k)].loc[h] < 0:\n",
    "                result2['q_{}'.format(k)].iloc[h] = 0\n",
    "        \n",
    "        X2['Minute'] = X2['Minute'].astype('int')\n",
    "        \n",
    "    result2 = result2[240:]\n",
    "    final_result = pd.concat([final_result, result2])\n",
    "    \n",
    "            "
   ]
  },
  {
   "cell_type": "code",
   "execution_count": 145,
   "metadata": {},
   "outputs": [
    {
     "output_type": "execute_result",
     "data": {
      "text/plain": [
       "                     id  hour  day  q_0.1  q_0.2  q_0.3  q_0.4  q_0.5  q_0.6  \\\n",
       "240    0.csv_Day7_0h00m   0.0  7.0    0.0    0.0    0.0    0.0    0.0    0.0   \n",
       "241    0.csv_Day7_0h30m   0.0  7.0    0.0    0.0    0.0    0.0    0.0    0.0   \n",
       "242    0.csv_Day7_1h00m   1.0  7.0    0.0    0.0    0.0    0.0    0.0    0.0   \n",
       "243    0.csv_Day7_1h30m   1.0  7.0    0.0    0.0    0.0    0.0    0.0    0.0   \n",
       "244    0.csv_Day7_2h00m   2.0  7.0    0.0    0.0    0.0    0.0    0.0    0.0   \n",
       "..                  ...   ...  ...    ...    ...    ...    ...    ...    ...   \n",
       "331  80.csv_Day8_21h30m  21.0  8.0    0.0    0.0    0.0    0.0    0.0    0.0   \n",
       "332  80.csv_Day8_22h00m  22.0  8.0    0.0    0.0    0.0    0.0    0.0    0.0   \n",
       "333  80.csv_Day8_22h30m  22.0  8.0    0.0    0.0    0.0    0.0    0.0    0.0   \n",
       "334  80.csv_Day8_23h00m  23.0  8.0    0.0    0.0    0.0    0.0    0.0    0.0   \n",
       "335  80.csv_Day8_23h30m  23.0  8.0    0.0    0.0    0.0    0.0    0.0    0.0   \n",
       "\n",
       "     q_0.7  q_0.8  q_0.9  \n",
       "240    0.0    0.0    0.0  \n",
       "241    0.0    0.0    0.0  \n",
       "242    0.0    0.0    0.0  \n",
       "243    0.0    0.0    0.0  \n",
       "244    0.0    0.0    0.0  \n",
       "..     ...    ...    ...  \n",
       "331    0.0    0.0    0.0  \n",
       "332    0.0    0.0    0.0  \n",
       "333    0.0    0.0    0.0  \n",
       "334    0.0    0.0    0.0  \n",
       "335    0.0    0.0    0.0  \n",
       "\n",
       "[7776 rows x 12 columns]"
      ],
      "text/html": "<div>\n<style scoped>\n    .dataframe tbody tr th:only-of-type {\n        vertical-align: middle;\n    }\n\n    .dataframe tbody tr th {\n        vertical-align: top;\n    }\n\n    .dataframe thead th {\n        text-align: right;\n    }\n</style>\n<table border=\"1\" class=\"dataframe\">\n  <thead>\n    <tr style=\"text-align: right;\">\n      <th></th>\n      <th>id</th>\n      <th>hour</th>\n      <th>day</th>\n      <th>q_0.1</th>\n      <th>q_0.2</th>\n      <th>q_0.3</th>\n      <th>q_0.4</th>\n      <th>q_0.5</th>\n      <th>q_0.6</th>\n      <th>q_0.7</th>\n      <th>q_0.8</th>\n      <th>q_0.9</th>\n    </tr>\n  </thead>\n  <tbody>\n    <tr>\n      <th>240</th>\n      <td>0.csv_Day7_0h00m</td>\n      <td>0.0</td>\n      <td>7.0</td>\n      <td>0.0</td>\n      <td>0.0</td>\n      <td>0.0</td>\n      <td>0.0</td>\n      <td>0.0</td>\n      <td>0.0</td>\n      <td>0.0</td>\n      <td>0.0</td>\n      <td>0.0</td>\n    </tr>\n    <tr>\n      <th>241</th>\n      <td>0.csv_Day7_0h30m</td>\n      <td>0.0</td>\n      <td>7.0</td>\n      <td>0.0</td>\n      <td>0.0</td>\n      <td>0.0</td>\n      <td>0.0</td>\n      <td>0.0</td>\n      <td>0.0</td>\n      <td>0.0</td>\n      <td>0.0</td>\n      <td>0.0</td>\n    </tr>\n    <tr>\n      <th>242</th>\n      <td>0.csv_Day7_1h00m</td>\n      <td>1.0</td>\n      <td>7.0</td>\n      <td>0.0</td>\n      <td>0.0</td>\n      <td>0.0</td>\n      <td>0.0</td>\n      <td>0.0</td>\n      <td>0.0</td>\n      <td>0.0</td>\n      <td>0.0</td>\n      <td>0.0</td>\n    </tr>\n    <tr>\n      <th>243</th>\n      <td>0.csv_Day7_1h30m</td>\n      <td>1.0</td>\n      <td>7.0</td>\n      <td>0.0</td>\n      <td>0.0</td>\n      <td>0.0</td>\n      <td>0.0</td>\n      <td>0.0</td>\n      <td>0.0</td>\n      <td>0.0</td>\n      <td>0.0</td>\n      <td>0.0</td>\n    </tr>\n    <tr>\n      <th>244</th>\n      <td>0.csv_Day7_2h00m</td>\n      <td>2.0</td>\n      <td>7.0</td>\n      <td>0.0</td>\n      <td>0.0</td>\n      <td>0.0</td>\n      <td>0.0</td>\n      <td>0.0</td>\n      <td>0.0</td>\n      <td>0.0</td>\n      <td>0.0</td>\n      <td>0.0</td>\n    </tr>\n    <tr>\n      <th>...</th>\n      <td>...</td>\n      <td>...</td>\n      <td>...</td>\n      <td>...</td>\n      <td>...</td>\n      <td>...</td>\n      <td>...</td>\n      <td>...</td>\n      <td>...</td>\n      <td>...</td>\n      <td>...</td>\n      <td>...</td>\n    </tr>\n    <tr>\n      <th>331</th>\n      <td>80.csv_Day8_21h30m</td>\n      <td>21.0</td>\n      <td>8.0</td>\n      <td>0.0</td>\n      <td>0.0</td>\n      <td>0.0</td>\n      <td>0.0</td>\n      <td>0.0</td>\n      <td>0.0</td>\n      <td>0.0</td>\n      <td>0.0</td>\n      <td>0.0</td>\n    </tr>\n    <tr>\n      <th>332</th>\n      <td>80.csv_Day8_22h00m</td>\n      <td>22.0</td>\n      <td>8.0</td>\n      <td>0.0</td>\n      <td>0.0</td>\n      <td>0.0</td>\n      <td>0.0</td>\n      <td>0.0</td>\n      <td>0.0</td>\n      <td>0.0</td>\n      <td>0.0</td>\n      <td>0.0</td>\n    </tr>\n    <tr>\n      <th>333</th>\n      <td>80.csv_Day8_22h30m</td>\n      <td>22.0</td>\n      <td>8.0</td>\n      <td>0.0</td>\n      <td>0.0</td>\n      <td>0.0</td>\n      <td>0.0</td>\n      <td>0.0</td>\n      <td>0.0</td>\n      <td>0.0</td>\n      <td>0.0</td>\n      <td>0.0</td>\n    </tr>\n    <tr>\n      <th>334</th>\n      <td>80.csv_Day8_23h00m</td>\n      <td>23.0</td>\n      <td>8.0</td>\n      <td>0.0</td>\n      <td>0.0</td>\n      <td>0.0</td>\n      <td>0.0</td>\n      <td>0.0</td>\n      <td>0.0</td>\n      <td>0.0</td>\n      <td>0.0</td>\n      <td>0.0</td>\n    </tr>\n    <tr>\n      <th>335</th>\n      <td>80.csv_Day8_23h30m</td>\n      <td>23.0</td>\n      <td>8.0</td>\n      <td>0.0</td>\n      <td>0.0</td>\n      <td>0.0</td>\n      <td>0.0</td>\n      <td>0.0</td>\n      <td>0.0</td>\n      <td>0.0</td>\n      <td>0.0</td>\n      <td>0.0</td>\n    </tr>\n  </tbody>\n</table>\n<p>7776 rows × 12 columns</p>\n</div>"
     },
     "metadata": {},
     "execution_count": 145
    }
   ],
   "source": [
    "final_result"
   ]
  },
  {
   "cell_type": "code",
   "execution_count": 146,
   "metadata": {},
   "outputs": [],
   "source": [
    "final_result = final_result.drop(['hour','day'], axis =1 )\n",
    "final_result = final_result.reset_index()\n",
    "final_result = final_result.drop('index', axis = 1)"
   ]
  },
  {
   "cell_type": "code",
   "execution_count": 147,
   "metadata": {},
   "outputs": [],
   "source": [
    "final_result.to_csv('submit_final5.csv', index = False)"
   ]
  },
  {
   "cell_type": "code",
   "execution_count": 143,
   "metadata": {},
   "outputs": [
    {
     "output_type": "execute_result",
     "data": {
      "text/plain": [
       "                      id  q_0.1  q_0.2  q_0.3  q_0.4  q_0.5  q_0.6  q_0.7  \\\n",
       "0       0.csv_Day7_0h00m    0.0    0.0    0.0    0.0    0.0    0.0    0.0   \n",
       "1       0.csv_Day7_0h30m    0.0    0.0    0.0    0.0    0.0    0.0    0.0   \n",
       "2       0.csv_Day7_1h00m    0.0    0.0    0.0    0.0    0.0    0.0    0.0   \n",
       "3       0.csv_Day7_1h30m    0.0    0.0    0.0    0.0    0.0    0.0    0.0   \n",
       "4       0.csv_Day7_2h00m    0.0    0.0    0.0    0.0    0.0    0.0    0.0   \n",
       "...                  ...    ...    ...    ...    ...    ...    ...    ...   \n",
       "7771  80.csv_Day8_21h30m    0.0    0.0    0.0    0.0    0.0    0.0    0.0   \n",
       "7772  80.csv_Day8_22h00m    0.0    0.0    0.0    0.0    0.0    0.0    0.0   \n",
       "7773  80.csv_Day8_22h30m    0.0    0.0    0.0    0.0    0.0    0.0    0.0   \n",
       "7774  80.csv_Day8_23h00m    0.0    0.0    0.0    0.0    0.0    0.0    0.0   \n",
       "7775  80.csv_Day8_23h30m    0.0    0.0    0.0    0.0    0.0    0.0    0.0   \n",
       "\n",
       "      q_0.8  q_0.9  \n",
       "0       0.0    0.0  \n",
       "1       0.0    0.0  \n",
       "2       0.0    0.0  \n",
       "3       0.0    0.0  \n",
       "4       0.0    0.0  \n",
       "...     ...    ...  \n",
       "7771    0.0    0.0  \n",
       "7772    0.0    0.0  \n",
       "7773    0.0    0.0  \n",
       "7774    0.0    0.0  \n",
       "7775    0.0    0.0  \n",
       "\n",
       "[7776 rows x 10 columns]"
      ],
      "text/html": "<div>\n<style scoped>\n    .dataframe tbody tr th:only-of-type {\n        vertical-align: middle;\n    }\n\n    .dataframe tbody tr th {\n        vertical-align: top;\n    }\n\n    .dataframe thead th {\n        text-align: right;\n    }\n</style>\n<table border=\"1\" class=\"dataframe\">\n  <thead>\n    <tr style=\"text-align: right;\">\n      <th></th>\n      <th>id</th>\n      <th>q_0.1</th>\n      <th>q_0.2</th>\n      <th>q_0.3</th>\n      <th>q_0.4</th>\n      <th>q_0.5</th>\n      <th>q_0.6</th>\n      <th>q_0.7</th>\n      <th>q_0.8</th>\n      <th>q_0.9</th>\n    </tr>\n  </thead>\n  <tbody>\n    <tr>\n      <th>0</th>\n      <td>0.csv_Day7_0h00m</td>\n      <td>0.0</td>\n      <td>0.0</td>\n      <td>0.0</td>\n      <td>0.0</td>\n      <td>0.0</td>\n      <td>0.0</td>\n      <td>0.0</td>\n      <td>0.0</td>\n      <td>0.0</td>\n    </tr>\n    <tr>\n      <th>1</th>\n      <td>0.csv_Day7_0h30m</td>\n      <td>0.0</td>\n      <td>0.0</td>\n      <td>0.0</td>\n      <td>0.0</td>\n      <td>0.0</td>\n      <td>0.0</td>\n      <td>0.0</td>\n      <td>0.0</td>\n      <td>0.0</td>\n    </tr>\n    <tr>\n      <th>2</th>\n      <td>0.csv_Day7_1h00m</td>\n      <td>0.0</td>\n      <td>0.0</td>\n      <td>0.0</td>\n      <td>0.0</td>\n      <td>0.0</td>\n      <td>0.0</td>\n      <td>0.0</td>\n      <td>0.0</td>\n      <td>0.0</td>\n    </tr>\n    <tr>\n      <th>3</th>\n      <td>0.csv_Day7_1h30m</td>\n      <td>0.0</td>\n      <td>0.0</td>\n      <td>0.0</td>\n      <td>0.0</td>\n      <td>0.0</td>\n      <td>0.0</td>\n      <td>0.0</td>\n      <td>0.0</td>\n      <td>0.0</td>\n    </tr>\n    <tr>\n      <th>4</th>\n      <td>0.csv_Day7_2h00m</td>\n      <td>0.0</td>\n      <td>0.0</td>\n      <td>0.0</td>\n      <td>0.0</td>\n      <td>0.0</td>\n      <td>0.0</td>\n      <td>0.0</td>\n      <td>0.0</td>\n      <td>0.0</td>\n    </tr>\n    <tr>\n      <th>...</th>\n      <td>...</td>\n      <td>...</td>\n      <td>...</td>\n      <td>...</td>\n      <td>...</td>\n      <td>...</td>\n      <td>...</td>\n      <td>...</td>\n      <td>...</td>\n      <td>...</td>\n    </tr>\n    <tr>\n      <th>7771</th>\n      <td>80.csv_Day8_21h30m</td>\n      <td>0.0</td>\n      <td>0.0</td>\n      <td>0.0</td>\n      <td>0.0</td>\n      <td>0.0</td>\n      <td>0.0</td>\n      <td>0.0</td>\n      <td>0.0</td>\n      <td>0.0</td>\n    </tr>\n    <tr>\n      <th>7772</th>\n      <td>80.csv_Day8_22h00m</td>\n      <td>0.0</td>\n      <td>0.0</td>\n      <td>0.0</td>\n      <td>0.0</td>\n      <td>0.0</td>\n      <td>0.0</td>\n      <td>0.0</td>\n      <td>0.0</td>\n      <td>0.0</td>\n    </tr>\n    <tr>\n      <th>7773</th>\n      <td>80.csv_Day8_22h30m</td>\n      <td>0.0</td>\n      <td>0.0</td>\n      <td>0.0</td>\n      <td>0.0</td>\n      <td>0.0</td>\n      <td>0.0</td>\n      <td>0.0</td>\n      <td>0.0</td>\n      <td>0.0</td>\n    </tr>\n    <tr>\n      <th>7774</th>\n      <td>80.csv_Day8_23h00m</td>\n      <td>0.0</td>\n      <td>0.0</td>\n      <td>0.0</td>\n      <td>0.0</td>\n      <td>0.0</td>\n      <td>0.0</td>\n      <td>0.0</td>\n      <td>0.0</td>\n      <td>0.0</td>\n    </tr>\n    <tr>\n      <th>7775</th>\n      <td>80.csv_Day8_23h30m</td>\n      <td>0.0</td>\n      <td>0.0</td>\n      <td>0.0</td>\n      <td>0.0</td>\n      <td>0.0</td>\n      <td>0.0</td>\n      <td>0.0</td>\n      <td>0.0</td>\n      <td>0.0</td>\n    </tr>\n  </tbody>\n</table>\n<p>7776 rows × 10 columns</p>\n</div>"
     },
     "metadata": {},
     "execution_count": 143
    }
   ],
   "source": [
    "final_result"
   ]
  },
  {
   "cell_type": "code",
   "execution_count": null,
   "metadata": {},
   "outputs": [],
   "source": []
  }
 ],
 "metadata": {
  "kernelspec": {
   "display_name": "Python 3",
   "language": "python",
   "name": "python3"
  },
  "language_info": {
   "codemirror_mode": {
    "name": "ipython",
    "version": 3
   },
   "file_extension": ".py",
   "mimetype": "text/x-python",
   "name": "python",
   "nbconvert_exporter": "python",
   "pygments_lexer": "ipython3",
   "version": "3.6.12-final"
  },
  "toc": {
   "base_numbering": 1,
   "nav_menu": {},
   "number_sections": true,
   "sideBar": true,
   "skip_h1_title": false,
   "title_cell": "Table of Contents",
   "title_sidebar": "Contents",
   "toc_cell": false,
   "toc_position": {},
   "toc_section_display": true,
   "toc_window_display": false
  }
 },
 "nbformat": 4,
 "nbformat_minor": 4
}